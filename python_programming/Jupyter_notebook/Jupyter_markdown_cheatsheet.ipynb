{
 "cells": [
  {
   "cell_type": "markdown",
   "id": "db9e10fd",
   "metadata": {},
   "source": [
    "# Markdown for Jupyter notebooks cheatsheet"
   ]
  },
  {
   "cell_type": "markdown",
   "id": "5ae0cc59",
   "metadata": {},
   "source": [
    "#### FULL CREDIT TO IBM DOCUMENTATION\n",
    "__[LINK TO CHEAT SHEET](https://www.ibm.com/docs/en/watson-studio-local/1.2.3?topic=notebooks-markdown-jupyter-cheatsheet)__"
   ]
  },
  {
   "cell_type": "markdown",
   "id": "f01d89aa",
   "metadata": {},
   "source": [
    "**Headings**\n",
    "    Use the number sign (#) followed by a blank space for notebook titles and section headings:\n",
    "\n",
    "        # for titles\n",
    "        ## for major headings\n",
    "        ### for subheadings\n",
    "        #### for 4th level subheadings\n",
    "\n",
    "<a id=\"headings\"></a>"
   ]
  },
  {
   "cell_type": "markdown",
   "id": "d7d6dbeb",
   "metadata": {},
   "source": [
    "**Emphasis**\n",
    "    Use the following code to emphasize text:\n",
    "\n",
    "        Bold text: __string__ or **string**\n",
    "        Italic text: _string_ or *string*"
   ]
  },
  {
   "cell_type": "markdown",
   "id": "0f45e098",
   "metadata": {},
   "source": [
    "**Mathematical symbols**\n",
    "    Surround mathematical symbols with a dollar sign ($), for example:\n",
    "\n",
    "    $ mathematical symbols $"
   ]
  },
  {
   "cell_type": "markdown",
   "id": "e08d79b7",
   "metadata": {},
   "source": [
    "**Monospace font**\n",
    "    Surround text with a grave accent (`) also called a back single quotation mark, for example:\n",
    "\n",
    "    `string`"
   ]
  },
  {
   "cell_type": "markdown",
   "id": "fee06545",
   "metadata": {},
   "source": [
    "**Line breaks**\n",
    "    Sometimes markdown doesn’t make line breaks when you want them. To force a linebreak, use the following code: <br>\n",
    "    \"<br>\""
   ]
  },
  {
   "cell_type": "markdown",
   "id": "9e50ed89",
   "metadata": {},
   "source": [
    "**Indenting**\n",
    "    Use the greater than sign (>) followed by a space, for example:"
   ]
  },
  {
   "cell_type": "markdown",
   "id": "fb73d2d7",
   "metadata": {},
   "source": [
    "**Bullets**\n",
    "    To create a circular bullet point, use one of the following methods. Each bullet point must be on its own line.\n",
    "\n",
    "        A hyphen (-) followed by one or two spaces, for example: - Bulleted item\n",
    "        A space, a hyphen (-) and a space, for example: - Bulleted item\n",
    "        An asterisk (*) followed by one or two spaces, for example: * Bulleted item\n",
    "\n",
    "    To create a sub bullet, press Tab before entering the bullet point using one of the methods described above. For example:\n",
    "\n",
    "- Main bullet point\n",
    "    - Sub bullet point"
   ]
  },
  {
   "cell_type": "markdown",
   "id": "a88db5e1",
   "metadata": {},
   "source": [
    "**Numbered lists**\n",
    "    To create a numbered list, enter 1. followed by a space, for example:\n",
    "\n",
    "1. Numbered item\n",
    "1. Numbered item\n",
    "\n",
    "    For simplicity, you use 1. before each entry. The list will be numbered correctly when you run the cell.\n",
    "\n",
    "    To create a substep, press Tab before entering the numbered item, for example:\n",
    "1. Numbered item\n",
    "     1. Substep\n",
    "     1. Substep\n"
   ]
  },
  {
   "cell_type": "markdown",
   "id": "2dc4d447",
   "metadata": {},
   "source": [
    "**Colored note boxes**\n",
    "    Use one of the following to display text in a colored box."
   ]
  },
  {
   "cell_type": "markdown",
   "id": "a1706d74",
   "metadata": {},
   "source": [
    "<div class=\"alert alert-block alert-info\">\n",
    "<b>Tip:</b> Use blue boxes (alert-info) for tips and notes. \n",
    "If it’s a note, you don’t have to include the word “Note”.\n",
    "</div>"
   ]
  },
  {
   "cell_type": "markdown",
   "id": "d28092b9",
   "metadata": {},
   "source": [
    "<div class=\"alert alert-block alert-warning\">\n",
    "<b>Example:</b> Use yellow boxes for examples that are not \n",
    "inside code cells, or use for mathematical formulas if needed.\n",
    "</div>"
   ]
  },
  {
   "cell_type": "markdown",
   "id": "df1b5586",
   "metadata": {},
   "source": [
    "<div class=\"alert alert-block alert-success\">\n",
    "<b>Up to you:</b> Use green boxes sparingly, and only for some specific \n",
    "purpose that the other boxes can't cover. For example, if you have a lot \n",
    "of related content to link to, maybe you decide to use green boxes for \n",
    "related links from each section of a notebook.\n",
    "</div>"
   ]
  },
  {
   "cell_type": "markdown",
   "id": "0579e91e",
   "metadata": {},
   "source": [
    "<div class=\"alert alert-block alert-danger\">\n",
    "<b>Just don't:</b> In general, avoid the red boxes. These should only be\n",
    "used for actions that might cause data loss or another major issue.\n",
    "</div>"
   ]
  },
  {
   "cell_type": "markdown",
   "id": "3cbc9b05",
   "metadata": {},
   "source": [
    "Horizontal lines\n",
    "    On a new line, enter three asterisks:\n",
    "\n",
    "***"
   ]
  },
  {
   "cell_type": "markdown",
   "id": "04fbea43",
   "metadata": {},
   "source": [
    "Internal links\n",
    "    To link to a section within your notebook, use the following code:\n",
    "\n",
    "[Headings](#headings)"
   ]
  },
  {
   "cell_type": "markdown",
   "id": "a5da9eb7",
   "metadata": {},
   "source": [
    "External links\n",
    "    To link to an external site, use the following code:\n",
    "    \n",
    "__[link text](http://url)__"
   ]
  },
  {
   "cell_type": "markdown",
   "id": "0f5d47e7",
   "metadata": {},
   "source": [
    "**Insert image from local**\n",
    "![Gif image](image/python_gif.gif)"
   ]
  },
  {
   "cell_type": "markdown",
   "id": "bf72a67a",
   "metadata": {},
   "source": [
    "**Insert image from URL**\n",
    "\n",
    "![Gif image](https://assets-v2.lottiefiles.com/a/62e02bc6-116f-11ee-aeb0-077c335b3c67/XpwfUikILP.gif)"
   ]
  }
 ],
 "metadata": {
  "kernelspec": {
   "display_name": ".venv",
   "language": "python",
   "name": "python3"
  },
  "language_info": {
   "codemirror_mode": {
    "name": "ipython",
    "version": 3
   },
   "file_extension": ".py",
   "mimetype": "text/x-python",
   "name": "python",
   "nbconvert_exporter": "python",
   "pygments_lexer": "ipython3",
   "version": "3.13.2"
  }
 },
 "nbformat": 4,
 "nbformat_minor": 5
}
