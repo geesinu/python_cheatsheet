{
 "cells": [
  {
   "cell_type": "markdown",
   "id": "75c70ce2",
   "metadata": {},
   "source": [
    "# list comprehensions"
   ]
  },
  {
   "cell_type": "markdown",
   "id": "0f26ea25",
   "metadata": {},
   "source": [
    "python user C implementation on a lower level, less operation per cycle using list comprehension, list comprehension enchances performance"
   ]
  },
  {
   "cell_type": "markdown",
   "id": "dcdd9a83",
   "metadata": {},
   "source": [
    "list of examples that uses list comprehensions"
   ]
  },
  {
   "cell_type": "markdown",
   "id": "4bcd7905",
   "metadata": {},
   "source": [
    "populate list"
   ]
  },
  {
   "cell_type": "code",
   "execution_count": 15,
   "id": "ba5d2a58",
   "metadata": {},
   "outputs": [
    {
     "name": "stdout",
     "output_type": "stream",
     "text": [
      "[1, 4, 9, 16, 25, 36, 49, 64, 81, 100]\n"
     ]
    }
   ],
   "source": [
    "squares = [x**2 for x in range(1,11)]\n",
    "print(squares)"
   ]
  },
  {
   "cell_type": "markdown",
   "id": "c55b2115",
   "metadata": {},
   "source": [
    "populate list with condition"
   ]
  },
  {
   "cell_type": "code",
   "execution_count": 16,
   "id": "90aefc2e",
   "metadata": {},
   "outputs": [
    {
     "name": "stdout",
     "output_type": "stream",
     "text": [
      "[2, 4, 6, 8, 10]\n"
     ]
    }
   ],
   "source": [
    "evens = [x for x in range(1,11) if x % 2 == 0]\n",
    "print(evens)"
   ]
  },
  {
   "cell_type": "markdown",
   "id": "837f1294",
   "metadata": {},
   "source": [
    "flatten nested loop"
   ]
  },
  {
   "cell_type": "code",
   "execution_count": 17,
   "id": "446999fe",
   "metadata": {},
   "outputs": [
    {
     "name": "stdout",
     "output_type": "stream",
     "text": [
      "[1, 2, 3, 4, 5, 6]\n"
     ]
    }
   ],
   "source": [
    "nested = [[1,2],[3,4],[5,6]]\n",
    "flattened = [item for sublist in nested for item in sublist]\n",
    "print(flattened)"
   ]
  },
  {
   "cell_type": "markdown",
   "id": "6e9e43a0",
   "metadata": {},
   "source": [
    "populate cartesian product"
   ]
  },
  {
   "cell_type": "code",
   "execution_count": 18,
   "id": "e36dd787",
   "metadata": {},
   "outputs": [
    {
     "name": "stdout",
     "output_type": "stream",
     "text": [
      "[(0, 'a'), (0, 'b'), (0, 'c'), (1, 'a'), (1, 'b'), (1, 'c'), (2, 'a'), (2, 'b'), (2, 'c')]\n"
     ]
    }
   ],
   "source": [
    "cartesian_product = [(x,y) for x in range(3) for y in 'abc']\n",
    "print(cartesian_product)"
   ]
  },
  {
   "cell_type": "code",
   "execution_count": null,
   "id": "da57068b",
   "metadata": {},
   "outputs": [],
   "source": []
  }
 ],
 "metadata": {
  "kernelspec": {
   "display_name": "base",
   "language": "python",
   "name": "python3"
  },
  "language_info": {
   "codemirror_mode": {
    "name": "ipython",
    "version": 3
   },
   "file_extension": ".py",
   "mimetype": "text/x-python",
   "name": "python",
   "nbconvert_exporter": "python",
   "pygments_lexer": "ipython3",
   "version": "3.8.18"
  }
 },
 "nbformat": 4,
 "nbformat_minor": 5
}
