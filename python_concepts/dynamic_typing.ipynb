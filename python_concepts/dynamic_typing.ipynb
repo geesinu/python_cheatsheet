{
 "cells": [
  {
   "cell_type": "markdown",
   "id": "028bbed6",
   "metadata": {},
   "source": [
    "# Dynamic Typing"
   ]
  },
  {
   "cell_type": "markdown",
   "id": "5ced2a97",
   "metadata": {},
   "source": [
    "whenever a variable is defined, its typed can be changed later on"
   ]
  },
  {
   "cell_type": "code",
   "execution_count": 1,
   "id": "b7a5ea9b",
   "metadata": {},
   "outputs": [
    {
     "name": "stdout",
     "output_type": "stream",
     "text": [
      "<class 'int'>\n",
      "<class 'str'>\n"
     ]
    }
   ],
   "source": [
    "x = 10\n",
    "print(type(x))\n",
    "\n",
    "x = \"Hello, Python\"\n",
    "print(type(x))"
   ]
  },
  {
   "cell_type": "markdown",
   "id": "b1c521ce",
   "metadata": {},
   "source": [
    "type hint can help type but not enforced"
   ]
  },
  {
   "cell_type": "code",
   "execution_count": 2,
   "id": "47ba3fca",
   "metadata": {},
   "outputs": [],
   "source": [
    "def add(a:int, b:int) -> int:\n",
    "  return a + b"
   ]
  }
 ],
 "metadata": {
  "kernelspec": {
   "display_name": "base",
   "language": "python",
   "name": "python3"
  },
  "language_info": {
   "codemirror_mode": {
    "name": "ipython",
    "version": 3
   },
   "file_extension": ".py",
   "mimetype": "text/x-python",
   "name": "python",
   "nbconvert_exporter": "python",
   "pygments_lexer": "ipython3",
   "version": "3.8.18"
  }
 },
 "nbformat": 4,
 "nbformat_minor": 5
}
