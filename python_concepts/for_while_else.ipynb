{
 "cells": [
  {
   "cell_type": "markdown",
   "id": "a41bc32b",
   "metadata": {},
   "source": [
    "# for/while else"
   ]
  },
  {
   "cell_type": "markdown",
   "id": "af9fa19f",
   "metadata": {},
   "source": [
    "**can add else condition after loop**"
   ]
  },
  {
   "cell_type": "code",
   "execution_count": null,
   "id": "10e53e15",
   "metadata": {},
   "outputs": [
    {
     "name": "stdout",
     "output_type": "stream",
     "text": [
      "Found 5\n"
     ]
    }
   ],
   "source": [
    "num = [x for x in range(1,11)]\n",
    "for n in num:\n",
    "  if n ==5:\n",
    "    print(\"Found 5\")\n",
    "    break\n",
    "# executes when break is not executed\n",
    "else:  \n",
    "  print(\"5 was not found\")"
   ]
  },
  {
   "cell_type": "code",
   "execution_count": null,
   "id": "fd91049b",
   "metadata": {},
   "outputs": [],
   "source": []
  }
 ],
 "metadata": {
  "kernelspec": {
   "display_name": "base",
   "language": "python",
   "name": "python3"
  },
  "language_info": {
   "codemirror_mode": {
    "name": "ipython",
    "version": 3
   },
   "file_extension": ".py",
   "mimetype": "text/x-python",
   "name": "python",
   "nbconvert_exporter": "python",
   "pygments_lexer": "ipython3",
   "version": "3.8.18"
  }
 },
 "nbformat": 4,
 "nbformat_minor": 5
}
