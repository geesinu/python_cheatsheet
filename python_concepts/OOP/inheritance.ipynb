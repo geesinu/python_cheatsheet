{
 "cells": [
  {
   "cell_type": "markdown",
   "id": "da67fbf7",
   "metadata": {},
   "source": [
    "### Inheritance"
   ]
  },
  {
   "cell_type": "markdown",
   "id": "03177738",
   "metadata": {},
   "source": [
    "child inherits parent hair colour"
   ]
  },
  {
   "cell_type": "code",
   "execution_count": null,
   "id": "d8de2569",
   "metadata": {},
   "outputs": [],
   "source": [
    "class Parent:\n",
    "    hair_color = \"brown\"\n",
    "\n",
    "class Child(Parent):\n",
    "    pass"
   ]
  },
  {
   "cell_type": "code",
   "execution_count": null,
   "id": "d31026f3",
   "metadata": {},
   "outputs": [
    {
     "data": {
      "text/plain": [
       "'brown'"
      ]
     },
     "metadata": {},
     "output_type": "display_data"
    }
   ],
   "source": [
    "Child.hair_color"
   ]
  },
  {
   "cell_type": "markdown",
   "id": "1d110984",
   "metadata": {},
   "source": [
    "attributes can be overidden"
   ]
  },
  {
   "cell_type": "code",
   "execution_count": null,
   "id": "eb976ee0",
   "metadata": {},
   "outputs": [],
   "source": [
    "class Parent:\n",
    "    hair_color = \"brown\"\n",
    "\n",
    "class Child(Parent):\n",
    "    hair_color = \"purple\""
   ]
  },
  {
   "cell_type": "code",
   "execution_count": null,
   "id": "0114c3ef",
   "metadata": {},
   "outputs": [
    {
     "data": {
      "text/plain": [
       "'purple'"
      ]
     },
     "metadata": {},
     "output_type": "display_data"
    }
   ],
   "source": [
    "Child.hair_color"
   ]
  },
  {
   "cell_type": "markdown",
   "id": "4029f3ca",
   "metadata": {},
   "source": [
    "attributes can be extended"
   ]
  },
  {
   "cell_type": "code",
   "execution_count": null,
   "id": "bdd780b0",
   "metadata": {},
   "outputs": [],
   "source": [
    "class Parent:\n",
    "    speaks = [\"English\"]\n",
    "\n",
    "class Child(Parent):\n",
    "    def __init__(self):\n",
    "        super().__init__()\n",
    "        self.speaks.append(\"German\")"
   ]
  },
  {
   "cell_type": "markdown",
   "id": "76545aba",
   "metadata": {},
   "source": [
    "Full example of using inheritence using Dog"
   ]
  },
  {
   "cell_type": "code",
   "execution_count": null,
   "id": "798875c8",
   "metadata": {},
   "outputs": [],
   "source": [
    "class Dog:\n",
    "    species = \"Canis familiaris\"\n",
    "\n",
    "    def __init__(self, name, age):\n",
    "        self.name = name\n",
    "        self.age = age\n",
    "\n",
    "    def __str__(self):\n",
    "        return f\"{self.name} is {self.age} years old\"\n",
    "\n",
    "    def speak(self, sound):\n",
    "        return f\"{self.name} says {sound}\"\n",
    "\n",
    "class JackRussellTerrier(Dog):\n",
    "    pass\n",
    "\n",
    "class Dachshund(Dog):\n",
    "    pass\n",
    "\n",
    "class Bulldog(Dog):\n",
    "    pass"
   ]
  },
  {
   "cell_type": "code",
   "execution_count": null,
   "id": "d8a81d04",
   "metadata": {},
   "outputs": [
    {
     "name": "stdout",
     "output_type": "stream",
     "text": [
      "Canis familiaris\n",
      "Buddy\n",
      "Jack is 3 years old\n",
      "Jim says Woof\n"
     ]
    }
   ],
   "source": [
    "miles = JackRussellTerrier(\"Miles\", 4)\n",
    "buddy = Dachshund(\"Buddy\", 9)\n",
    "jack = Bulldog(\"Jack\", 3)\n",
    "jim = Bulldog(\"Jim\", 5)\n",
    "\n",
    "print(miles.species)\n",
    "print(buddy.name)\n",
    "print(jack)\n",
    "print(jim.speak(\"Woof\"))"
   ]
  },
  {
   "cell_type": "markdown",
   "id": "f2793546",
   "metadata": {},
   "source": [
    "check which class a given object belongs to"
   ]
  },
  {
   "cell_type": "code",
   "execution_count": null,
   "id": "eba010c4",
   "metadata": {},
   "outputs": [
    {
     "data": {
      "text/plain": [
       "__main__.JackRussellTerrier"
      ]
     },
     "metadata": {},
     "output_type": "display_data"
    }
   ],
   "source": [
    "type(miles)"
   ]
  },
  {
   "cell_type": "markdown",
   "id": "e5d3ea89",
   "metadata": {},
   "source": [
    "determine if miles is also an instance of the Dog "
   ]
  },
  {
   "cell_type": "code",
   "execution_count": null,
   "id": "1d4e8d23",
   "metadata": {},
   "outputs": [
    {
     "data": {
      "text/plain": [
       "True"
      ]
     },
     "metadata": {},
     "output_type": "display_data"
    }
   ],
   "source": [
    "isinstance(miles, Dog)"
   ]
  },
  {
   "cell_type": "code",
   "execution_count": null,
   "id": "21fd2114",
   "metadata": {},
   "outputs": [
    {
     "data": {
      "text/plain": [
       "False"
      ]
     },
     "metadata": {},
     "output_type": "display_data"
    }
   ],
   "source": [
    "isinstance(miles, Bulldog)"
   ]
  },
  {
   "cell_type": "markdown",
   "id": "f05e972f",
   "metadata": {},
   "source": [
    "### Parent Class Functionality Extension"
   ]
  },
  {
   "cell_type": "markdown",
   "id": "23a9f135",
   "metadata": {},
   "source": [
    "overriding parents class"
   ]
  },
  {
   "cell_type": "code",
   "execution_count": 3,
   "id": "ad2f1195",
   "metadata": {},
   "outputs": [],
   "source": [
    "class Dog:\n",
    "    species = \"Canis familiaris\"\n",
    "\n",
    "    def __init__(self, name, age):\n",
    "        self.name = name\n",
    "        self.age = age\n",
    "\n",
    "    def __str__(self):\n",
    "        return f\"{self.name} is {self.age} years old\"\n",
    "\n",
    "    def speak(self, sound):\n",
    "        return f\"{self.name} says {sound}\"\n",
    "\n",
    "class JackRussellTerrier(Dog):\n",
    "    def speak(self, sound=\"Arf\"):\n",
    "        return f\"{self.name} says {sound}\""
   ]
  },
  {
   "cell_type": "code",
   "execution_count": 4,
   "id": "a2e7de13",
   "metadata": {},
   "outputs": [
    {
     "data": {
      "text/plain": [
       "'Miles says Arf'"
      ]
     },
     "execution_count": 4,
     "metadata": {},
     "output_type": "execute_result"
    }
   ],
   "source": [
    "miles = JackRussellTerrier(\"Miles\", 4)\n",
    "miles.speak()"
   ]
  },
  {
   "cell_type": "markdown",
   "id": "5703a1c5",
   "metadata": {},
   "source": [
    "Sometimes it makes sense to cmpletely override a method from a parent class. But in this case, you don’t want the JackRussellTerrier class to lose any changes.\n",
    "\n",
    "You can access the parent class from inside a method of a child class by using super():"
   ]
  },
  {
   "cell_type": "code",
   "execution_count": 5,
   "id": "e33eac04",
   "metadata": {},
   "outputs": [],
   "source": [
    "class JackRussellTerrier(Dog):\n",
    "    def speak(self, sound=\"Arf\"):\n",
    "        return super().speak(sound)\n"
   ]
  },
  {
   "cell_type": "code",
   "execution_count": 6,
   "id": "bd681a12",
   "metadata": {},
   "outputs": [
    {
     "data": {
      "text/plain": [
       "'Miles says Arf'"
      ]
     },
     "execution_count": 6,
     "metadata": {},
     "output_type": "execute_result"
    }
   ],
   "source": [
    "miles = JackRussellTerrier(\"Miles\", 4)\n",
    "miles.speak()"
   ]
  },
  {
   "cell_type": "code",
   "execution_count": null,
   "id": "a7c0274c",
   "metadata": {},
   "outputs": [],
   "source": []
  }
 ],
 "metadata": {
  "kernelspec": {
   "display_name": "base",
   "language": "python",
   "name": "python3"
  },
  "language_info": {
   "codemirror_mode": {
    "name": "ipython",
    "version": 3
   },
   "file_extension": ".py",
   "mimetype": "text/x-python",
   "name": "python",
   "nbconvert_exporter": "python",
   "pygments_lexer": "ipython3",
   "version": "3.8.18"
  }
 },
 "nbformat": 4,
 "nbformat_minor": 5
}
