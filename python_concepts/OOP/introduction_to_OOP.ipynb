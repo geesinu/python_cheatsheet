{
 "cells": [
  {
   "cell_type": "markdown",
   "id": "7f27916e",
   "metadata": {},
   "source": [
    "# Object-Oriented Programming (OOP) "
   ]
  },
  {
   "cell_type": "markdown",
   "id": "b8d95c23",
   "metadata": {},
   "source": [
    "Credit to OOP tutorial by Real Python __[LINK](https://realpython.com/python3-object-oriented-programming/)__"
   ]
  },
  {
   "cell_type": "markdown",
   "id": "7533d925",
   "metadata": {},
   "source": [
    "The four key concepts of OOP in Python are **encapsulation**, **inheritance**, **abstraction**, and **polymorphism**.\n",
    "\n",
    "- You create an object in Python by instantiating a class\n",
    "- Class inheritance in Python allows a class to inherit attributes and methods from another class, known as the parent class.\n",
    "- You use super() in Python to call a method from the parent class, allowing you to extend or modify inherited behavior.\n"
   ]
  },
  {
   "cell_type": "markdown",
   "id": "3c4e6b4c",
   "metadata": {},
   "source": [
    "**Encapsulation** allows you to bundle data (attributes) and behaviors (methods) within a class to create a cohesive unit. `Helps maintain data integrity and promotes modular, secure code.`"
   ]
  },
  {
   "cell_type": "markdown",
   "id": "6c7e7c13",
   "metadata": {},
   "source": [
    "**Inheritance** enables the creation of hierarchical relationships between classes, `allowing a subclass to inherit attributes and methods from a parent class`. This promotes code reuse and reduces duplication."
   ]
  },
  {
   "cell_type": "markdown",
   "id": "7584739a",
   "metadata": {},
   "source": [
    "**Abstraction** focuses on hiding implementation details and exposing only the essential functionality of an object. By enforcing a consistent interface, abstraction `simplifies interactions with objects, allowing developers to focus on what an object does rather than how it achieves its functionality`."
   ]
  },
  {
   "cell_type": "markdown",
   "id": "ec95897d",
   "metadata": {},
   "source": [
    "**Polymorphism** allows you to treat objects of different types as instances of the same base type, as long as they implement a common interface or behavior. Python’s duck typing make it especially suited for polymorphism, as it allows you to access attributes and methods on objects without needing to worry about their actual class."
   ]
  },
  {
   "cell_type": "markdown",
   "id": "cd4f6e14",
   "metadata": {},
   "source": [
    "### Defining a class"
   ]
  },
  {
   "cell_type": "code",
   "execution_count": 65,
   "id": "25179b4e",
   "metadata": {},
   "outputs": [],
   "source": [
    "class Employee:\n",
    "    def __init__(self, name, age):\n",
    "        self.name =  name\n",
    "        self.age = age"
   ]
  },
  {
   "cell_type": "markdown",
   "id": "53641df3",
   "metadata": {},
   "source": [
    "### Creating an instance"
   ]
  },
  {
   "cell_type": "code",
   "execution_count": 66,
   "id": "c411e88f",
   "metadata": {},
   "outputs": [],
   "source": [
    "class Dog:\n",
    "    # CLASS ATTRIBUTES\n",
    "    # attributes are same for all instance\n",
    "    species = \"Canis familiaris\"\n",
    "\n",
    "    def __init__(self, name, age):\n",
    "        # INSTANCE ATTRIBUTES\n",
    "        # attributes is specific to a particular instance of the class\n",
    "        self.name = name\n",
    "        self.age = age"
   ]
  },
  {
   "cell_type": "markdown",
   "id": "b2c9e111",
   "metadata": {},
   "source": [
    "TypeError because values not defined"
   ]
  },
  {
   "cell_type": "code",
   "execution_count": 67,
   "id": "36b13dad",
   "metadata": {},
   "outputs": [
    {
     "ename": "TypeError",
     "evalue": "__init__() missing 2 required positional arguments: 'name' and 'age'",
     "output_type": "error",
     "traceback": [
      "\u001b[1;31m---------------------------------------------------------------------------\u001b[0m",
      "\u001b[1;31mTypeError\u001b[0m                                 Traceback (most recent call last)",
      "Cell \u001b[1;32mIn[67], line 1\u001b[0m\n\u001b[1;32m----> 1\u001b[0m a \u001b[38;5;241m=\u001b[39m \u001b[43mDog\u001b[49m\u001b[43m(\u001b[49m\u001b[43m)\u001b[49m\n",
      "\u001b[1;31mTypeError\u001b[0m: __init__() missing 2 required positional arguments: 'name' and 'age'"
     ]
    }
   ],
   "source": [
    "a = Dog()"
   ]
  },
  {
   "cell_type": "code",
   "execution_count": 68,
   "id": "58ddb0cb",
   "metadata": {},
   "outputs": [],
   "source": [
    "miles = Dog(\"Miles\", 4)\n",
    "buddy = Dog(\"Buddy\", 9)"
   ]
  },
  {
   "cell_type": "markdown",
   "id": "c18df10d",
   "metadata": {},
   "source": [
    "After you create the Dog instances, you can access their instance attributes using dot notation:"
   ]
  },
  {
   "cell_type": "code",
   "execution_count": 69,
   "id": "c497d53d",
   "metadata": {},
   "outputs": [
    {
     "data": {
      "text/plain": [
       "'Miles'"
      ]
     },
     "execution_count": 69,
     "metadata": {},
     "output_type": "execute_result"
    }
   ],
   "source": [
    "miles.name"
   ]
  },
  {
   "cell_type": "code",
   "execution_count": 70,
   "id": "d0f5ce52",
   "metadata": {},
   "outputs": [
    {
     "data": {
      "text/plain": [
       "4"
      ]
     },
     "execution_count": 70,
     "metadata": {},
     "output_type": "execute_result"
    }
   ],
   "source": [
    "\n",
    "miles.age"
   ]
  },
  {
   "cell_type": "markdown",
   "id": "b0363272",
   "metadata": {},
   "source": [
    "access class attributes the same way:"
   ]
  },
  {
   "cell_type": "code",
   "execution_count": 71,
   "id": "fe2ec77f",
   "metadata": {},
   "outputs": [
    {
     "data": {
      "text/plain": [
       "'Canis familiaris'"
      ]
     },
     "execution_count": 71,
     "metadata": {},
     "output_type": "execute_result"
    }
   ],
   "source": [
    "buddy.species"
   ]
  },
  {
   "cell_type": "markdown",
   "id": "d88c4eb4",
   "metadata": {},
   "source": [
    "attributes are guaranteed to exist, their values can change dynamically"
   ]
  },
  {
   "cell_type": "code",
   "execution_count": 72,
   "id": "9377a542",
   "metadata": {},
   "outputs": [
    {
     "name": "stdout",
     "output_type": "stream",
     "text": [
      "age: 10 \n",
      "species: Felis silvestris\n"
     ]
    }
   ],
   "source": [
    "miles.age = 10\n",
    "miles.species = \"Felis silvestris\"\n",
    "print(f'age: {miles.age} \\nspecies: {miles.species}')"
   ]
  },
  {
   "cell_type": "markdown",
   "id": "8e7740f9",
   "metadata": {},
   "source": [
    "### Instance Methods"
   ]
  },
  {
   "cell_type": "code",
   "execution_count": 73,
   "id": "11229e4a",
   "metadata": {},
   "outputs": [],
   "source": [
    "class Dog:\n",
    "    species = \"Canis familiaris\"\n",
    "\n",
    "    def __init__(self, name, age):\n",
    "        self.name = name\n",
    "        self.age = age\n",
    "\n",
    "    # Instance method\n",
    "    def description(self):\n",
    "        return f\"{self.name} is {self.age} years old\"\n",
    "\n",
    "    # Another instance method\n",
    "    def speak(self, sound):\n",
    "        return f\"{self.name} says {sound}\""
   ]
  },
  {
   "cell_type": "code",
   "execution_count": 74,
   "id": "9d886732",
   "metadata": {},
   "outputs": [
    {
     "name": "stdout",
     "output_type": "stream",
     "text": [
      "Miles is 4 years old\n",
      "Miles says Woof Woof\n",
      "Miles says Bow Wow\n"
     ]
    }
   ],
   "source": [
    "miles = Dog(\"Miles\", 4)\n",
    "print(miles.description())\n",
    "print(miles.speak(\"Woof Woof\"))\n",
    "print(miles.speak(\"Bow Wow\"))"
   ]
  },
  {
   "cell_type": "markdown",
   "id": "fe2ba016",
   "metadata": {},
   "source": [
    "When you print miles, you get a cryptic-looking message telling you that miles is a Dog object at the memory address 0x00aeff70. This message isn’t very helpful. You can change what gets printed by defining a special instance method called .__str__()."
   ]
  },
  {
   "cell_type": "code",
   "execution_count": 75,
   "id": "743dc63e",
   "metadata": {},
   "outputs": [
    {
     "name": "stdout",
     "output_type": "stream",
     "text": [
      "<__main__.Dog object at 0x0000013E616EBBE0>\n"
     ]
    }
   ],
   "source": [
    "print(miles)"
   ]
  },
  {
   "cell_type": "code",
   "execution_count": 76,
   "id": "ebff2546",
   "metadata": {},
   "outputs": [],
   "source": [
    "class Dog:\n",
    "    species = \"Canis familiaris\"\n",
    "\n",
    "    def __init__(self, name, age):\n",
    "        self.name = name\n",
    "        self.age = age\n",
    "    \n",
    "    def __str__(self):\n",
    "        return f\"{self.name} is {self.age} years old\"\n",
    "\n",
    "    # Instance method\n",
    "    def description(self):\n",
    "        return f\"{self.name} is {self.age} years old\"\n",
    "\n",
    "    # Another instance method\n",
    "    def speak(self, sound):\n",
    "        return f\"{self.name} says {sound}\""
   ]
  },
  {
   "cell_type": "code",
   "execution_count": 77,
   "id": "4a9644ea",
   "metadata": {},
   "outputs": [
    {
     "name": "stdout",
     "output_type": "stream",
     "text": [
      "Miles is 4 years old\n"
     ]
    }
   ],
   "source": [
    "miles = Dog(\"Miles\", 4)\n",
    "print(miles)"
   ]
  }
 ],
 "metadata": {
  "kernelspec": {
   "display_name": "base",
   "language": "python",
   "name": "python3"
  },
  "language_info": {
   "codemirror_mode": {
    "name": "ipython",
    "version": 3
   },
   "file_extension": ".py",
   "mimetype": "text/x-python",
   "name": "python",
   "nbconvert_exporter": "python",
   "pygments_lexer": "ipython3",
   "version": "3.8.18"
  }
 },
 "nbformat": 4,
 "nbformat_minor": 5
}
