{
 "cells": [
  {
   "cell_type": "markdown",
   "id": "ac121848",
   "metadata": {},
   "source": [
    "# *args, **kwargs"
   ]
  },
  {
   "cell_type": "markdown",
   "id": "31df0bff",
   "metadata": {},
   "source": [
    "**basic use of star agrs and star star agrs function**"
   ]
  },
  {
   "cell_type": "code",
   "execution_count": 1,
   "id": "18ae0120",
   "metadata": {},
   "outputs": [
    {
     "name": "stdout",
     "output_type": "stream",
     "text": [
      "Positional:  (1, 2, 3, 4, 5)\n",
      "Keywords:  {'name': 'Alice', 'age': '30'}\n"
     ]
    }
   ],
   "source": [
    "def print_all(*args, **kwargs):\n",
    "  print(\"Positional: \", args)\n",
    "  print(\"Keywords: \", kwargs)\n",
    "\n",
    "print_all(1,2,3,4,5,name=\"Alice\",age=\"30\" )"
   ]
  },
  {
   "cell_type": "code",
   "execution_count": 2,
   "id": "f3864040",
   "metadata": {},
   "outputs": [
    {
     "name": "stdout",
     "output_type": "stream",
     "text": [
      "hello 3 2\n"
     ]
    }
   ],
   "source": [
    "print(\"hello\", 3, 2)"
   ]
  },
  {
   "cell_type": "code",
   "execution_count": null,
   "id": "cccf4277",
   "metadata": {},
   "outputs": [],
   "source": []
  }
 ],
 "metadata": {
  "kernelspec": {
   "display_name": "base",
   "language": "python",
   "name": "python3"
  },
  "language_info": {
   "codemirror_mode": {
    "name": "ipython",
    "version": 3
   },
   "file_extension": ".py",
   "mimetype": "text/x-python",
   "name": "python",
   "nbconvert_exporter": "python",
   "pygments_lexer": "ipython3",
   "version": "3.8.18"
  }
 },
 "nbformat": 4,
 "nbformat_minor": 5
}
