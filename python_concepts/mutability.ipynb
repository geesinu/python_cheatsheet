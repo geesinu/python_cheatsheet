{
 "cells": [
  {
   "cell_type": "markdown",
   "id": "ba6d5829",
   "metadata": {},
   "source": [
    "# mutability"
   ]
  },
  {
   "cell_type": "markdown",
   "id": "d3e86e6b",
   "metadata": {},
   "source": [
    "**types like int,float boolean, string are immutable.\n",
    "Immutable (once defined) can't be changed later**"
   ]
  },
  {
   "cell_type": "markdown",
   "id": "34665038",
   "metadata": {},
   "source": [
    "Mutable type: "
   ]
  },
  {
   "cell_type": "code",
   "execution_count": 23,
   "id": "d85d6197",
   "metadata": {},
   "outputs": [
    {
     "name": "stdout",
     "output_type": "stream",
     "text": [
      "My numbers: [1, 2, 3, 10]\n",
      "Returned list: [1, 2, 3, 10]\n"
     ]
    }
   ],
   "source": [
    "def mutation(Lst):\n",
    "  Lst.append(10)\n",
    "  return Lst\n",
    "\n",
    "my_numbers = [1,2,3]\n",
    "# Only reference the my_numbers, not deep copy\n",
    "# Thats why my_numbers is also appended\n",
    "list_after_call = mutation(my_numbers)\n",
    "\n",
    "print(\"My numbers:\",my_numbers)\n",
    "print(\"Returned list:\", list_after_call)"
   ]
  },
  {
   "cell_type": "markdown",
   "id": "d43a6baa",
   "metadata": {},
   "source": [
    "**another mutable example: explains why shouldn't pass mutable object for defaut parameter**"
   ]
  },
  {
   "cell_type": "code",
   "execution_count": 24,
   "id": "f0b15deb",
   "metadata": {},
   "outputs": [
    {
     "name": "stdout",
     "output_type": "stream",
     "text": [
      "[10, 10, 10, 10, 10]\n"
     ]
    }
   ],
   "source": [
    "def mutation(Lst=[]):\n",
    "  Lst.append(10)\n",
    "  return Lst\n",
    "\n",
    "mutation()\n",
    "mutation()\n",
    "mutation()\n",
    "mutation()\n",
    "\n",
    "print(mutation())"
   ]
  },
  {
   "cell_type": "code",
   "execution_count": 25,
   "id": "9386d495",
   "metadata": {},
   "outputs": [
    {
     "name": "stdout",
     "output_type": "stream",
     "text": [
      "[10]\n"
     ]
    }
   ],
   "source": [
    "# instead should do the following\n",
    "\n",
    "def mutation(Lst=None):\n",
    "  if Lst == None:\n",
    "    Lst = []\n",
    "  Lst.append(10)\n",
    "  return Lst\n",
    "\n",
    "mutation()\n",
    "mutation()\n",
    "mutation()\n",
    "mutation()\n",
    "\n",
    "print(mutation())"
   ]
  }
 ],
 "metadata": {
  "kernelspec": {
   "display_name": "base",
   "language": "python",
   "name": "python3"
  },
  "language_info": {
   "codemirror_mode": {
    "name": "ipython",
    "version": 3
   },
   "file_extension": ".py",
   "mimetype": "text/x-python",
   "name": "python",
   "nbconvert_exporter": "python",
   "pygments_lexer": "ipython3",
   "version": "3.8.18"
  }
 },
 "nbformat": 4,
 "nbformat_minor": 5
}
