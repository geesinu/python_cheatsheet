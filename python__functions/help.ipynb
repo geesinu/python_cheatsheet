{
 "cells": [
  {
   "cell_type": "markdown",
   "id": "7bc8ac34",
   "metadata": {},
   "source": [
    "# Help Function cheatsheet"
   ]
  },
  {
   "cell_type": "markdown",
   "id": "6a1e37ca",
   "metadata": {},
   "source": [
    "**help, reads the docstring of the function**"
   ]
  },
  {
   "cell_type": "code",
   "execution_count": 4,
   "id": "a9348441",
   "metadata": {},
   "outputs": [
    {
     "name": "stdout",
     "output_type": "stream",
     "text": [
      "Help on built-in function print in module builtins:\n",
      "\n",
      "print(*args, sep=' ', end='\\n', file=None, flush=False)\n",
      "    Prints the values to a stream, or to sys.stdout by default.\n",
      "\n",
      "    sep\n",
      "      string inserted between values, default a space.\n",
      "    end\n",
      "      string appended after the last value, default a newline.\n",
      "    file\n",
      "      a file-like object (stream); defaults to the current sys.stdout.\n",
      "    flush\n",
      "      whether to forcibly flush the stream.\n",
      "\n"
     ]
    }
   ],
   "source": [
    "help(print)"
   ]
  },
  {
   "cell_type": "markdown",
   "id": "87452c63",
   "metadata": {},
   "source": [
    "**help also works for self created functions**\n",
    "<br>\n",
    "useful when working in a large code base or code wirtten by others"
   ]
  },
  {
   "cell_type": "code",
   "execution_count": 5,
   "id": "995d4e4e",
   "metadata": {},
   "outputs": [],
   "source": [
    "def test_func(a, b):\n",
    "    \"\"\"\n",
    "    a: value 1\n",
    "    b: value 2\n",
    "\n",
    "    return: int\n",
    "    \"\"\"\n",
    "\n",
    "    return a + b"
   ]
  },
  {
   "cell_type": "code",
   "execution_count": 6,
   "id": "34df4722",
   "metadata": {},
   "outputs": [
    {
     "name": "stdout",
     "output_type": "stream",
     "text": [
      "Help on function test_func in module __main__:\n",
      "\n",
      "test_func(a, b)\n",
      "    a: value 1\n",
      "    b: value 2\n",
      "\n",
      "    return: int\n",
      "\n"
     ]
    }
   ],
   "source": [
    "help(test_func)"
   ]
  }
 ],
 "metadata": {
  "kernelspec": {
   "display_name": ".venv",
   "language": "python",
   "name": "python3"
  },
  "language_info": {
   "codemirror_mode": {
    "name": "ipython",
    "version": 3
   },
   "file_extension": ".py",
   "mimetype": "text/x-python",
   "name": "python",
   "nbconvert_exporter": "python",
   "pygments_lexer": "ipython3",
   "version": "3.13.2"
  }
 },
 "nbformat": 4,
 "nbformat_minor": 5
}
