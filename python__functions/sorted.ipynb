{
 "cells": [
  {
   "cell_type": "markdown",
   "metadata": {},
   "source": [
    "# sorted function cheatsheet"
   ]
  },
  {
   "cell_type": "markdown",
   "metadata": {},
   "source": [
    "**sorted basic use case**"
   ]
  },
  {
   "cell_type": "code",
   "execution_count": 7,
   "metadata": {},
   "outputs": [
    {
     "name": "stdout",
     "output_type": "stream",
     "text": [
      "[-1, 0, 2, 3, 4, 5, 9]\n",
      "[9, 5, 4, 3, 2, 0, -1]\n"
     ]
    }
   ],
   "source": [
    "numbers = [4,5,2,3,-1,0,9]\n",
    "\n",
    "sorted_nums = sorted(numbers)\n",
    "print(sorted_nums)\n",
    "\n",
    "sorted_nums = sorted(numbers, reverse=True)\n",
    "print(sorted_nums)"
   ]
  },
  {
   "cell_type": "markdown",
   "metadata": {},
   "source": [
    "**Sorted function with key** applies functions to the elements first, then sorts afterwards"
   ]
  },
  {
   "cell_type": "code",
   "execution_count": 8,
   "metadata": {},
   "outputs": [
    {
     "name": "stdout",
     "output_type": "stream",
     "text": [
      "[{'name': 'David', 'age': 20}, {'name': 'Bob', 'age': 25}, {'name': 'Alice', 'age': 30}, {'name': 'Charlie', 'age': 35}]\n"
     ]
    }
   ],
   "source": [
    "people = [\n",
    "  {\"name\": \"Alice\", \"age\": 30},\n",
    "  {\"name\": \"Bob\", \"age\": 25},\n",
    "  {\"name\": \"Charlie\", \"age\": 35},\n",
    "  {\"name\": \"David\", \"age\": 20},\n",
    "]\n",
    "\n",
    "sorted_people = sorted(people, key= lambda person: person[\"age\"])\n",
    "print(sorted_people)\n"
   ]
  },
  {
   "cell_type": "code",
   "execution_count": null,
   "metadata": {},
   "outputs": [],
   "source": []
  }
 ],
 "metadata": {
  "kernelspec": {
   "display_name": "base",
   "language": "python",
   "name": "python3"
  },
  "language_info": {
   "codemirror_mode": {
    "name": "ipython",
    "version": 3
   },
   "file_extension": ".py",
   "mimetype": "text/x-python",
   "name": "python",
   "nbconvert_exporter": "python",
   "pygments_lexer": "ipython3",
   "version": "3.8.18"
  }
 },
 "nbformat": 4,
 "nbformat_minor": 2
}
