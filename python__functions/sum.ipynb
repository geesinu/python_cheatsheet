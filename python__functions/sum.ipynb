{
 "cells": [
  {
   "cell_type": "markdown",
   "id": "c0eebda8",
   "metadata": {},
   "source": [
    "# sum function cheatsheet"
   ]
  },
  {
   "cell_type": "markdown",
   "id": "15045a89",
   "metadata": {},
   "source": [
    "**sum functions cam be applied on any iterable not only list**"
   ]
  },
  {
   "cell_type": "code",
   "execution_count": 2,
   "id": "42f429ca",
   "metadata": {},
   "outputs": [
    {
     "name": "stdout",
     "output_type": "stream",
     "text": [
      "35.5\n"
     ]
    }
   ],
   "source": [
    "numbers = {1, 4.5, 5, 23, 2}\n",
    "print(sum(numbers))"
   ]
  },
  {
   "cell_type": "markdown",
   "id": "8f30c5cf",
   "metadata": {},
   "source": [
    "**can add starting value to sum**"
   ]
  },
  {
   "cell_type": "code",
   "execution_count": 3,
   "id": "7ec457ee",
   "metadata": {},
   "outputs": [
    {
     "name": "stdout",
     "output_type": "stream",
     "text": [
      "25.5\n"
     ]
    }
   ],
   "source": [
    "numbers = (1, 4.5, 5, 23, 2)\n",
    "print(sum(numbers, start=-10))"
   ]
  },
  {
   "cell_type": "markdown",
   "id": "76765b19",
   "metadata": {},
   "source": []
  }
 ],
 "metadata": {
  "kernelspec": {
   "display_name": ".venv",
   "language": "python",
   "name": "python3"
  },
  "language_info": {
   "codemirror_mode": {
    "name": "ipython",
    "version": 3
   },
   "file_extension": ".py",
   "mimetype": "text/x-python",
   "name": "python",
   "nbconvert_exporter": "python",
   "pygments_lexer": "ipython3",
   "version": "3.13.2"
  }
 },
 "nbformat": 4,
 "nbformat_minor": 5
}
