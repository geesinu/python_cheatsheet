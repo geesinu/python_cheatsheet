{
 "cells": [
  {
   "cell_type": "markdown",
   "id": "edd47d14",
   "metadata": {},
   "source": [
    "# zip function cheatsheet"
   ]
  },
  {
   "cell_type": "markdown",
   "id": "2aaa9c3e",
   "metadata": {},
   "source": [
    "**zip basic usecase**"
   ]
  },
  {
   "cell_type": "code",
   "execution_count": 8,
   "id": "ade9fddc",
   "metadata": {},
   "outputs": [
    {
     "name": "stdout",
     "output_type": "stream",
     "text": [
      "Alice is 30 years old\n",
      "Bob is 23 years old\n",
      "Charlie is 35 years old\n",
      "David is 20 years old\n"
     ]
    }
   ],
   "source": [
    "names = [\"Alice\",\"Bob\",\"Charlie\",\"David\",\"tim\"]\n",
    "ages = [30, 23, 35, 20]\n",
    "genders = [\"female\", \"male\", \"male\"]\n",
    "\n",
    "# without zip\n",
    "for i in range (min(len(names),len(ages))):\n",
    "  name = names[i]\n",
    "  age = ages[i]\n",
    "  print(f'{name} is {age} years old')"
   ]
  },
  {
   "cell_type": "code",
   "execution_count": 9,
   "id": "f717e12e",
   "metadata": {},
   "outputs": [
    {
     "name": "stdout",
     "output_type": "stream",
     "text": [
      "[('Alice', 30, 'female'), ('Bob', 23, 'male'), ('Charlie', 35, 'male')]\n",
      "Alice is 30 years old and is female\n",
      "Bob is 23 years old and is male\n",
      "Charlie is 35 years old and is male\n"
     ]
    }
   ],
   "source": [
    "#same code with zip\n",
    "combined = list(zip(names,ages, genders))\n",
    "print(combined)\n",
    "\n",
    "for name, age, gender in combined:\n",
    "  print(f'{name} is {age} years old and is {gender}')"
   ]
  }
 ],
 "metadata": {
  "kernelspec": {
   "display_name": "base",
   "language": "python",
   "name": "python3"
  },
  "language_info": {
   "codemirror_mode": {
    "name": "ipython",
    "version": 3
   },
   "file_extension": ".py",
   "mimetype": "text/x-python",
   "name": "python",
   "nbconvert_exporter": "python",
   "pygments_lexer": "ipython3",
   "version": "3.8.18"
  }
 },
 "nbformat": 4,
 "nbformat_minor": 5
}
