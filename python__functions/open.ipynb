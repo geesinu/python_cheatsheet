{
 "cells": [
  {
   "cell_type": "markdown",
   "id": "79018339",
   "metadata": {},
   "source": [
    "# open file cheatsheet"
   ]
  },
  {
   "cell_type": "markdown",
   "id": "de38ac48",
   "metadata": {},
   "source": [
    "**always open file with context manager (with function) as it closes the file without needing to explicitly closing it**"
   ]
  },
  {
   "cell_type": "markdown",
   "id": "51c3d7bb",
   "metadata": {},
   "source": [
    "read mode"
   ]
  },
  {
   "cell_type": "code",
   "execution_count": 25,
   "id": "5bae2da7",
   "metadata": {},
   "outputs": [
    {
     "name": "stdout",
     "output_type": "stream",
     "text": [
      "only one line\n"
     ]
    }
   ],
   "source": [
    "with open(\"test.txt\", \"r\") as file:\n",
    "  text = file.read()\n",
    "  print (text)"
   ]
  },
  {
   "cell_type": "markdown",
   "id": "b079a4b2",
   "metadata": {},
   "source": [
    "append mode"
   ]
  },
  {
   "cell_type": "code",
   "execution_count": 26,
   "id": "f3dc1552",
   "metadata": {},
   "outputs": [],
   "source": [
    "with open(\"test.txt\", \"a\") as file:\n",
    "  file.write(\"\\nnew addition\")\n",
    "  file.write(\"\\nnew addition\")\n",
    "  file.write(\"\\nnew addition\")"
   ]
  },
  {
   "cell_type": "code",
   "execution_count": 27,
   "id": "2e690329",
   "metadata": {},
   "outputs": [
    {
     "name": "stdout",
     "output_type": "stream",
     "text": [
      "only one line\n",
      "new addition\n",
      "new addition\n",
      "new addition\n"
     ]
    }
   ],
   "source": [
    "with open(\"test.txt\", \"r\") as file:\n",
    "  text = file.read()\n",
    "  print (text)"
   ]
  },
  {
   "cell_type": "markdown",
   "id": "ed4a756b",
   "metadata": {},
   "source": [
    "write and read mode"
   ]
  },
  {
   "cell_type": "code",
   "execution_count": 28,
   "id": "8f47a4bf",
   "metadata": {},
   "outputs": [],
   "source": [
    "with open(\"test.txt\", \"w\") as file:\n",
    "  file.write(\"only one line\")"
   ]
  },
  {
   "cell_type": "code",
   "execution_count": 29,
   "id": "efc99d09",
   "metadata": {},
   "outputs": [
    {
     "name": "stdout",
     "output_type": "stream",
     "text": [
      "only one line\n"
     ]
    }
   ],
   "source": [
    "with open(\"test.txt\", \"r\") as file:\n",
    "  text = file.read()\n",
    "  print (text)"
   ]
  }
 ],
 "metadata": {
  "kernelspec": {
   "display_name": "base",
   "language": "python",
   "name": "python3"
  },
  "language_info": {
   "codemirror_mode": {
    "name": "ipython",
    "version": 3
   },
   "file_extension": ".py",
   "mimetype": "text/x-python",
   "name": "python",
   "nbconvert_exporter": "python",
   "pygments_lexer": "ipython3",
   "version": "3.8.18"
  }
 },
 "nbformat": 4,
 "nbformat_minor": 5
}
