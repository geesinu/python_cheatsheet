{
 "cells": [
  {
   "cell_type": "markdown",
   "id": "ab768a17",
   "metadata": {},
   "source": [
    "# filter function cheatsheet"
   ]
  },
  {
   "cell_type": "markdown",
   "id": "835f187e",
   "metadata": {},
   "source": [
    "**take every item pass to a function, if returns true then item  is kept**"
   ]
  },
  {
   "cell_type": "code",
   "execution_count": 3,
   "id": "688b01bc",
   "metadata": {},
   "outputs": [
    {
     "name": "stdout",
     "output_type": "stream",
     "text": [
      "['world', 'apple']\n"
     ]
    }
   ],
   "source": [
    "def longer_than_4(string):\n",
    "    return len(string) > 4\n",
    "\n",
    "strings = [\"my\", \"world\", \"apple\", \"pear\"]\n",
    "\n",
    "filtered = filter(longer_than_4, strings)\n",
    "print(list(filtered))"
   ]
  },
  {
   "cell_type": "markdown",
   "id": "caecd5db",
   "metadata": {},
   "source": [
    "written using lamda function"
   ]
  },
  {
   "cell_type": "code",
   "execution_count": 4,
   "id": "2eab5ba4",
   "metadata": {},
   "outputs": [
    {
     "name": "stdout",
     "output_type": "stream",
     "text": [
      "['world', 'apple']\n"
     ]
    }
   ],
   "source": [
    "strings = [\"my\", \"world\", \"apple\", \"pear\"]\n",
    "\n",
    "filtered = filter(lambda x: len(x) > 4, strings)\n",
    "print(list(filtered))"
   ]
  }
 ],
 "metadata": {
  "kernelspec": {
   "display_name": ".venv",
   "language": "python",
   "name": "python3"
  },
  "language_info": {
   "codemirror_mode": {
    "name": "ipython",
    "version": 3
   },
   "file_extension": ".py",
   "mimetype": "text/x-python",
   "name": "python",
   "nbconvert_exporter": "python",
   "pygments_lexer": "ipython3",
   "version": "3.13.2"
  }
 },
 "nbformat": 4,
 "nbformat_minor": 5
}
