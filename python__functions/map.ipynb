{
 "cells": [
  {
   "cell_type": "markdown",
   "id": "4a027f3f",
   "metadata": {},
   "source": [
    "# map function cheatsheet"
   ]
  },
  {
   "cell_type": "markdown",
   "id": "a114e4a4",
   "metadata": {},
   "source": [
    "**map function applies function to every item in a iterable**"
   ]
  },
  {
   "cell_type": "code",
   "execution_count": 3,
   "id": "624a809a",
   "metadata": {},
   "outputs": [
    {
     "name": "stdout",
     "output_type": "stream",
     "text": [
      "[2, 5, 5, 4]\n"
     ]
    }
   ],
   "source": [
    "strings = [\"my\", \"world\", \"apple\", \"pear\"]\n",
    "\n",
    "lengths = map(len, strings)\n",
    "print(list(lengths))"
   ]
  },
  {
   "cell_type": "markdown",
   "id": "752aba9a",
   "metadata": {},
   "source": [
    "another example using lambda function"
   ]
  },
  {
   "cell_type": "code",
   "execution_count": 4,
   "id": "0340b349",
   "metadata": {},
   "outputs": [
    {
     "name": "stdout",
     "output_type": "stream",
     "text": [
      "['mys', 'worlds', 'apples', 'pears']\n"
     ]
    }
   ],
   "source": [
    "strings = [\"my\", \"world\", \"apple\", \"pear\"]\n",
    "\n",
    "lengths = map(lambda x: x + \"s\", strings)\n",
    "print(list(lengths))"
   ]
  },
  {
   "cell_type": "markdown",
   "id": "4f24d06b",
   "metadata": {},
   "source": [
    "another example using custom function"
   ]
  },
  {
   "cell_type": "code",
   "execution_count": 5,
   "id": "07e17631",
   "metadata": {},
   "outputs": [
    {
     "name": "stdout",
     "output_type": "stream",
     "text": [
      "['ym', 'dlrow', 'elppa', 'raep']\n"
     ]
    }
   ],
   "source": [
    "strings = [\"my\", \"world\", \"apple\", \"pear\"]\n",
    "\n",
    "def reverse_string (s: str) -> str:\n",
    "    return s[::-1]\n",
    "\n",
    "lengths = map(reverse_string, strings)\n",
    "print(list(lengths))"
   ]
  }
 ],
 "metadata": {
  "kernelspec": {
   "display_name": ".venv",
   "language": "python",
   "name": "python3"
  },
  "language_info": {
   "codemirror_mode": {
    "name": "ipython",
    "version": 3
   },
   "file_extension": ".py",
   "mimetype": "text/x-python",
   "name": "python",
   "nbconvert_exporter": "python",
   "pygments_lexer": "ipython3",
   "version": "3.13.2"
  }
 },
 "nbformat": 4,
 "nbformat_minor": 5
}
