{
 "cells": [
  {
   "cell_type": "markdown",
   "id": "c51f35f1",
   "metadata": {},
   "source": [
    "# range function cheatsheet"
   ]
  },
  {
   "cell_type": "code",
   "execution_count": 2,
   "id": "434fd22c",
   "metadata": {},
   "outputs": [
    {
     "name": "stdout",
     "output_type": "stream",
     "text": [
      "[0, 1, 2, 3, 4, 5, 6, 7, 8, 9]\n",
      "[2, 3, 4, 5, 6, 7, 8, 9]\n",
      "[2, 4, 6, 8]\n",
      "[10, 8, 6, 4, 2, 0]\n"
     ]
    }
   ],
   "source": [
    "rng = range(10)\n",
    "print(list(rng))\n",
    "\n",
    "rng = range(2, 10)\n",
    "print(list(rng))\n",
    "\n",
    "rng = range(2, 10, 2)\n",
    "print(list(rng))\n",
    "\n",
    "rng = range(10, -2, -2)\n",
    "print(list(rng))"
   ]
  }
 ],
 "metadata": {
  "kernelspec": {
   "display_name": ".venv",
   "language": "python",
   "name": "python3"
  },
  "language_info": {
   "codemirror_mode": {
    "name": "ipython",
    "version": 3
   },
   "file_extension": ".py",
   "mimetype": "text/x-python",
   "name": "python",
   "nbconvert_exporter": "python",
   "pygments_lexer": "ipython3",
   "version": "3.13.2"
  }
 },
 "nbformat": 4,
 "nbformat_minor": 5
}
