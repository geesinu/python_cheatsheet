{
 "cells": [
  {
   "cell_type": "markdown",
   "id": "31143175",
   "metadata": {},
   "source": [
    "# enumerate function cheatsheet"
   ]
  },
  {
   "cell_type": "markdown",
   "id": "aa196031",
   "metadata": {},
   "source": [
    "**basic use of enumerte** gets the index and the value"
   ]
  },
  {
   "cell_type": "code",
   "execution_count": 1,
   "id": "3d1c77f7",
   "metadata": {},
   "outputs": [
    {
     "name": "stdout",
     "output_type": "stream",
     "text": [
      "1. grocery shopping\n",
      "2. car wash\n",
      "3. walk the dog\n",
      "4. reading\n"
     ]
    }
   ],
   "source": [
    "tasks = [\"grocery shopping\", \"car wash\", \"walk the dog\", \"reading\"]\n",
    "\n",
    "for index, task in enumerate(tasks):\n",
    "  print(f'{index + 1}. {task}')"
   ]
  },
  {
   "cell_type": "code",
   "execution_count": 2,
   "id": "eef44213",
   "metadata": {},
   "outputs": [
    {
     "name": "stdout",
     "output_type": "stream",
     "text": [
      "[(0, 'grocery shopping'), (1, 'car wash'), (2, 'walk the dog'), (3, 'reading')]\n"
     ]
    }
   ],
   "source": [
    "print(list(enumerate(tasks)))"
   ]
  },
  {
   "cell_type": "code",
   "execution_count": null,
   "id": "4e606e13",
   "metadata": {},
   "outputs": [],
   "source": []
  }
 ],
 "metadata": {
  "kernelspec": {
   "display_name": "base",
   "language": "python",
   "name": "python3"
  },
  "language_info": {
   "codemirror_mode": {
    "name": "ipython",
    "version": 3
   },
   "file_extension": ".py",
   "mimetype": "text/x-python",
   "name": "python",
   "nbconvert_exporter": "python",
   "pygments_lexer": "ipython3",
   "version": "3.8.18"
  }
 },
 "nbformat": 4,
 "nbformat_minor": 5
}
