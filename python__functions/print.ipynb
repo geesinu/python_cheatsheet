{
 "cells": [
  {
   "cell_type": "markdown",
   "id": "60fad9a7",
   "metadata": {},
   "source": [
    "# Print function cheat sheet"
   ]
  },
  {
   "cell_type": "markdown",
   "id": "a553cf95",
   "metadata": {},
   "source": [
    "**Print with seperator**"
   ]
  },
  {
   "cell_type": "code",
   "execution_count": 1,
   "id": "e66e8a7c",
   "metadata": {},
   "outputs": [
    {
     "name": "stdout",
     "output_type": "stream",
     "text": [
      "My name is|Tim|and ia am|23|years old\n",
      "My name is,Tim,and ia am,23,years old\n"
     ]
    }
   ],
   "source": [
    "age = 23\n",
    "name = \"Tim\" \n",
    "\n",
    "print(\"My name is\", name, \"and ia am\", age, \"years old\", sep=\"|\")\n",
    "print(\"My name is\", name, \"and ia am\", age, \"years old\", sep=\",\")"
   ]
  },
  {
   "cell_type": "markdown",
   "id": "ca147be0",
   "metadata": {},
   "source": [
    "**Remove new line in the end** "
   ]
  },
  {
   "cell_type": "code",
   "execution_count": 2,
   "id": "84905873",
   "metadata": {},
   "outputs": [
    {
     "name": "stdout",
     "output_type": "stream",
     "text": [
      "Hello World | I am Tim\n"
     ]
    }
   ],
   "source": [
    "print(\"Hello World\", end = \" | \")\n",
    "print(\"I am\", name)"
   ]
  },
  {
   "cell_type": "markdown",
   "id": "6f56c13f",
   "metadata": {},
   "source": [
    "**Print using f'**"
   ]
  },
  {
   "cell_type": "code",
   "execution_count": 3,
   "id": "ddf62d2f",
   "metadata": {},
   "outputs": [
    {
     "name": "stdout",
     "output_type": "stream",
     "text": [
      "1. grocery shopping\n",
      "2. car wash\n",
      "3. walk the dog\n",
      "4. reading\n"
     ]
    }
   ],
   "source": [
    "tasks = [\"grocery shopping\", \"car wash\", \"walk the dog\", \"reading\"]\n",
    "\n",
    "for index, task in enumerate(tasks):\n",
    "  print(f'{index + 1}. {task}')"
   ]
  }
 ],
 "metadata": {
  "kernelspec": {
   "display_name": "base",
   "language": "python",
   "name": "python3"
  },
  "language_info": {
   "codemirror_mode": {
    "name": "ipython",
    "version": 3
   },
   "file_extension": ".py",
   "mimetype": "text/x-python",
   "name": "python",
   "nbconvert_exporter": "python",
   "pygments_lexer": "ipython3",
   "version": "3.8.18"
  }
 },
 "nbformat": 4,
 "nbformat_minor": 5
}
