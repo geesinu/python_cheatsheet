{
 "cells": [
  {
   "cell_type": "markdown",
   "id": "60fad9a7",
   "metadata": {},
   "source": [
    "# Print function cheat sheet"
   ]
  },
  {
   "cell_type": "markdown",
   "id": "a553cf95",
   "metadata": {},
   "source": [
    "**Print with seperator**"
   ]
  },
  {
   "cell_type": "code",
   "execution_count": 3,
   "id": "e66e8a7c",
   "metadata": {},
   "outputs": [
    {
     "name": "stdout",
     "output_type": "stream",
     "text": [
      "My name is|Tim|and ia am|23|years old\n",
      "My name is,Tim,and ia am,23,years old\n"
     ]
    }
   ],
   "source": [
    "age = 23\n",
    "name = \"Tim\" \n",
    "\n",
    "print(\"My name is\", name, \"and ia am\", age, \"years old\", sep=\"|\")\n",
    "print(\"My name is\", name, \"and ia am\", age, \"years old\", sep=\",\")"
   ]
  },
  {
   "cell_type": "markdown",
   "id": "ca147be0",
   "metadata": {},
   "source": [
    "**Remove new line in the end** "
   ]
  },
  {
   "cell_type": "code",
   "execution_count": 4,
   "id": "84905873",
   "metadata": {},
   "outputs": [
    {
     "name": "stdout",
     "output_type": "stream",
     "text": [
      "Hello World | I am Tim\n"
     ]
    }
   ],
   "source": [
    "print(\"Hello World\", end = \" | \")\n",
    "print(\"I am\", name)"
   ]
  }
 ],
 "metadata": {
  "kernelspec": {
   "display_name": ".venv",
   "language": "python",
   "name": "python3"
  },
  "language_info": {
   "codemirror_mode": {
    "name": "ipython",
    "version": 3
   },
   "file_extension": ".py",
   "mimetype": "text/x-python",
   "name": "python",
   "nbconvert_exporter": "python",
   "pygments_lexer": "ipython3",
   "version": "3.13.2"
  }
 },
 "nbformat": 4,
 "nbformat_minor": 5
}
